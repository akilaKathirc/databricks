{
 "cells": [
  {
   "cell_type": "code",
   "execution_count": 0,
   "metadata": {
    "application/vnd.databricks.v1+cell": {
     "cellMetadata": {
      "byteLimit": 2048000,
      "rowLimit": 10000
     },
     "inputWidgets": {},
     "nuid": "476ad6a1-76fb-49e8-a6bb-1c9a11e983f1",
     "showTitle": false,
     "tableResultSettingsMap": {},
     "title": ""
    }
   },
   "outputs": [],
   "source": [
    "from pyspark.sql.types import *\n",
    "\n",
    "schema = StructType([\n",
    "    StructField(\"Sno\", IntegerType(), True),\n",
    "    StructField(\" Name\", StringType(), True),\n",
    "    StructField(\" Age\", DoubleType(), True),\n",
    "    StructField(\" Profession\", StringType(), True),\n",
    "    StructField(\" bad_data\", StringType(), True)\n",
    "])\n",
    "\n",
    "\n",
    "dff1 = spark.read.schema(schema).format(\"csv\").option(\"header\", True).option(\"mode\", \"PERMISSIVE\").option(\"columnNameOfCorruptRecord\", \"bad_data\").load(\"/FileStore/csv/err.csv\")\n",
    "\n",
    "display(dff1)"
   ]
  },
  {
   "cell_type": "code",
   "execution_count": 0,
   "metadata": {
    "application/vnd.databricks.v1+cell": {
     "cellMetadata": {},
     "inputWidgets": {},
     "nuid": "90de1b3f-74ff-4fa8-bd68-86cac037fac1",
     "showTitle": false,
     "tableResultSettingsMap": {},
     "title": ""
    }
   },
   "outputs": [],
   "source": []
  }
 ],
 "metadata": {
  "application/vnd.databricks.v1+notebook": {
   "computePreferences": null,
   "dashboards": [],
   "environmentMetadata": {
    "base_environment": "",
    "environment_version": "2"
   },
   "inputWidgetPreferences": null,
   "language": "python",
   "notebookMetadata": {
    "pythonIndentUnit": 4
   },
   "notebookName": "Untitled Notebook 2025-08-12 09_34_23",
   "widgets": {}
  },
  "language_info": {
   "name": "python"
  }
 },
 "nbformat": 4,
 "nbformat_minor": 0
}
