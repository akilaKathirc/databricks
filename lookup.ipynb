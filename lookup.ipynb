{
 "cells": [
  {
   "cell_type": "markdown",
   "metadata": {
    "application/vnd.databricks.v1+cell": {
     "cellMetadata": {},
     "inputWidgets": {},
     "nuid": "77cf03b7-a20f-4952-bc8e-70c45bb63c5d",
     "showTitle": false,
     "tableResultSettingsMap": {},
     "title": ""
    }
   },
   "source": [
    "\n",
    "### Array Parameters"
   ]
  },
  {
   "cell_type": "code",
   "execution_count": 0,
   "metadata": {
    "application/vnd.databricks.v1+cell": {
     "cellMetadata": {
      "byteLimit": 2048000,
      "rowLimit": 10000
     },
     "inputWidgets": {},
     "nuid": "f1057c3a-6a01-4e24-94ee-cd3dd38bbe22",
     "showTitle": false,
     "tableResultSettingsMap": {},
     "title": ""
    }
   },
   "outputs": [],
   "source": [
    "arrsyValues = [\n",
    "    {\n",
    "      \"sourcefolder\":\"netflix_titles\"  ,\n",
    "      \"targetfolder\":\"netflix_titles\"\n",
    "    },\n",
    "    {\n",
    "      \"sourcefolder\":\"netflixcast\"  ,\n",
    "      \"targetfolder\":\"netflixcast\"\n",
    "    },\n",
    "    {\n",
    "      \"sourcefolder\":\"netflixcategory\"  ,\n",
    "      \"targetfolder\":\"netflixcategory\"\n",
    "    },\n",
    "    {\n",
    "      \"sourcefolder\":\"netflixcountries\"  ,\n",
    "      \"targetfolder\":\"netflixcountries\"\n",
    "    },\n",
    "    {\n",
    "      \"sourcefolder\":\"netflixdirectors\"  ,\n",
    "      \"targetfolder\":\"netflixdirectors\"\n",
    "    }\n",
    "]"
   ]
  },
  {
   "cell_type": "code",
   "execution_count": 0,
   "metadata": {
    "application/vnd.databricks.v1+cell": {
     "cellMetadata": {
      "byteLimit": 2048000,
      "rowLimit": 10000
     },
     "inputWidgets": {},
     "nuid": "42e7983b-7fb0-49ce-aef0-7b6d2f350912",
     "showTitle": false,
     "tableResultSettingsMap": {},
     "title": ""
    }
   },
   "outputs": [],
   "source": [
    "dbutils.jobs.taskValues.set(key=\"my_arr\", value = arrsyValues)"
   ]
  },
  {
   "cell_type": "code",
   "execution_count": 0,
   "metadata": {
    "application/vnd.databricks.v1+cell": {
     "cellMetadata": {},
     "inputWidgets": {},
     "nuid": "df505269-d664-43f1-b0c7-5dda5c7e9fa6",
     "showTitle": false,
     "tableResultSettingsMap": {},
     "title": ""
    }
   },
   "outputs": [],
   "source": []
  }
 ],
 "metadata": {
  "application/vnd.databricks.v1+notebook": {
   "computePreferences": null,
   "dashboards": [],
   "environmentMetadata": {
    "base_environment": "",
    "environment_version": "2"
   },
   "inputWidgetPreferences": null,
   "language": "python",
   "notebookMetadata": {
    "pythonIndentUnit": 4
   },
   "notebookName": "lookup",
   "widgets": {}
  },
  "language_info": {
   "name": "python"
  }
 },
 "nbformat": 4,
 "nbformat_minor": 0
}
