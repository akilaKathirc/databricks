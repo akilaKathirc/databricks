{
 "cells": [
  {
   "cell_type": "code",
   "execution_count": 0,
   "metadata": {
    "application/vnd.databricks.v1+cell": {
     "cellMetadata": {
      "byteLimit": 2048000,
      "rowLimit": 10000
     },
     "inputWidgets": {},
     "nuid": "b583c93f-33ed-4899-aad6-3646a0a38d65",
     "showTitle": false,
     "tableResultSettingsMap": {},
     "title": ""
    }
   },
   "outputs": [],
   "source": [
    "from pyspark.sql import SparkSession"
   ]
  },
  {
   "cell_type": "code",
   "execution_count": 0,
   "metadata": {
    "application/vnd.databricks.v1+cell": {
     "cellMetadata": {
      "byteLimit": 2048000,
      "rowLimit": 10000
     },
     "inputWidgets": {},
     "nuid": "00237b89-9d23-460a-afe6-069e8466532f",
     "showTitle": false,
     "tableResultSettingsMap": {},
     "title": ""
    }
   },
   "outputs": [],
   "source": [
    "spark = SparkSession.builder.appName(\"akila\").getOrCreate()"
   ]
  },
  {
   "cell_type": "code",
   "execution_count": 0,
   "metadata": {
    "application/vnd.databricks.v1+cell": {
     "cellMetadata": {
      "byteLimit": 2048000,
      "rowLimit": 10000
     },
     "inputWidgets": {},
     "nuid": "a5842d4b-f436-438b-bdd1-2a4517f9c19c",
     "showTitle": false,
     "tableResultSettingsMap": {},
     "title": ""
    }
   },
   "outputs": [],
   "source": [
    "spark"
   ]
  },
  {
   "cell_type": "code",
   "execution_count": 0,
   "metadata": {
    "application/vnd.databricks.v1+cell": {
     "cellMetadata": {
      "byteLimit": 2048000,
      "rowLimit": 10000
     },
     "inputWidgets": {},
     "nuid": "6c44bff4-883e-48fd-b5a4-45ab75531bba",
     "showTitle": false,
     "tableResultSettingsMap": {},
     "title": ""
    }
   },
   "outputs": [],
   "source": [
    "df = spark.read.format(\"delta\").load(\"/delta/df3\")"
   ]
  },
  {
   "cell_type": "code",
   "execution_count": 0,
   "metadata": {
    "application/vnd.databricks.v1+cell": {
     "cellMetadata": {
      "byteLimit": 2048000,
      "rowLimit": 10000
     },
     "inputWidgets": {},
     "nuid": "d48fadcc-3ed3-432e-b51b-f9805ec3c301",
     "showTitle": false,
     "tableResultSettingsMap": {},
     "title": ""
    }
   },
   "outputs": [],
   "source": [
    "display(df)"
   ]
  },
  {
   "cell_type": "code",
   "execution_count": 0,
   "metadata": {
    "application/vnd.databricks.v1+cell": {
     "cellMetadata": {
      "byteLimit": 2048000,
      "rowLimit": 10000
     },
     "inputWidgets": {},
     "nuid": "9255f27f-4d35-484b-b809-e5f953133152",
     "showTitle": false,
     "tableResultSettingsMap": {},
     "title": ""
    }
   },
   "outputs": [],
   "source": [
    "dfcsav = spark.read.format(\"csv\").load(\"dbfs:/data1/df\")\n",
    "display(dfcsav)"
   ]
  },
  {
   "cell_type": "code",
   "execution_count": 0,
   "metadata": {
    "application/vnd.databricks.v1+cell": {
     "cellMetadata": {
      "byteLimit": 2048000,
      "rowLimit": 10000
     },
     "inputWidgets": {},
     "nuid": "ef1c9dc3-c23a-4535-a047-5fb666d6add3",
     "showTitle": false,
     "tableResultSettingsMap": {},
     "title": ""
    }
   },
   "outputs": [],
   "source": [
    "dfcsavmode = spark.read.option(\"header\", \"false\").option(\"mode\", \"DROPMALFORMED\").format(\"csv\").load(\"dbfs:/data1/df\")\n"
   ]
  },
  {
   "cell_type": "code",
   "execution_count": 0,
   "metadata": {
    "application/vnd.databricks.v1+cell": {
     "cellMetadata": {
      "byteLimit": 2048000,
      "rowLimit": 10000
     },
     "inputWidgets": {},
     "nuid": "bff07571-62f6-4de7-8d94-957ac93fe50a",
     "showTitle": false,
     "tableResultSettingsMap": {},
     "title": ""
    }
   },
   "outputs": [],
   "source": [
    "display(dfcsavmode)"
   ]
  },
  {
   "cell_type": "code",
   "execution_count": 0,
   "metadata": {
    "application/vnd.databricks.v1+cell": {
     "cellMetadata": {
      "byteLimit": 2048000,
      "rowLimit": 10000
     },
     "inputWidgets": {},
     "nuid": "55430a26-d58e-45e1-912d-ee5085eef8b7",
     "showTitle": false,
     "tableResultSettingsMap": {},
     "title": ""
    }
   },
   "outputs": [],
   "source": [
    "dfcsavfailfast = spark.read.option(\"header\", \"false\").option(\"mode\", \"FAILFAST\").format(\"csv\").load(\"dbfs:/data1/df\")\n"
   ]
  },
  {
   "cell_type": "code",
   "execution_count": 0,
   "metadata": {
    "application/vnd.databricks.v1+cell": {
     "cellMetadata": {
      "byteLimit": 2048000,
      "rowLimit": 10000
     },
     "inputWidgets": {},
     "nuid": "bc5a3437-0d25-4fde-96fe-033954c6dc9b",
     "showTitle": false,
     "tableResultSettingsMap": {},
     "title": ""
    }
   },
   "outputs": [],
   "source": [
    "display(dfcsavfailfast)"
   ]
  },
  {
   "cell_type": "code",
   "execution_count": 0,
   "metadata": {
    "application/vnd.databricks.v1+cell": {
     "cellMetadata": {
      "byteLimit": 2048000,
      "rowLimit": 10000
     },
     "inputWidgets": {},
     "nuid": "0bb702d9-6142-4dfc-b78d-9ca5ed43df6e",
     "showTitle": false,
     "tableResultSettingsMap": {},
     "title": ""
    }
   },
   "outputs": [],
   "source": [
    "dfcsavfailfast.write.mode(\"overwrite\").format(\"parquet\").save(\"/data/parquet/\")"
   ]
  },
  {
   "cell_type": "code",
   "execution_count": 0,
   "metadata": {
    "application/vnd.databricks.v1+cell": {
     "cellMetadata": {
      "byteLimit": 2048000,
      "rowLimit": 10000
     },
     "inputWidgets": {},
     "nuid": "eabde2a1-ceb6-448d-a9b3-9099f7763630",
     "showTitle": false,
     "tableResultSettingsMap": {},
     "title": ""
    }
   },
   "outputs": [],
   "source": [
    "df = spark.read.format(\"parquet\").load(\"/data/parquet/\")"
   ]
  },
  {
   "cell_type": "code",
   "execution_count": 0,
   "metadata": {
    "application/vnd.databricks.v1+cell": {
     "cellMetadata": {
      "byteLimit": 2048000,
      "rowLimit": 10000
     },
     "inputWidgets": {},
     "nuid": "25354920-8f29-4338-a678-9734e5335981",
     "showTitle": false,
     "tableResultSettingsMap": {},
     "title": ""
    }
   },
   "outputs": [],
   "source": [
    "display(df)"
   ]
  },
  {
   "cell_type": "code",
   "execution_count": 0,
   "metadata": {
    "application/vnd.databricks.v1+cell": {
     "cellMetadata": {
      "byteLimit": 2048000,
      "rowLimit": 10000
     },
     "inputWidgets": {},
     "nuid": "c4a07baa-55a8-4dae-a65a-52da4f18e004",
     "showTitle": false,
     "tableResultSettingsMap": {},
     "title": ""
    }
   },
   "outputs": [],
   "source": [
    "schema= \"id INT, name STRING, age INT, city STRING \""
   ]
  },
  {
   "cell_type": "code",
   "execution_count": 0,
   "metadata": {
    "application/vnd.databricks.v1+cell": {
     "cellMetadata": {
      "byteLimit": 2048000,
      "rowLimit": 10000
     },
     "inputWidgets": {},
     "nuid": "3f873c69-b290-457c-8500-3fffedab0d6b",
     "showTitle": false,
     "tableResultSettingsMap": {},
     "title": ""
    }
   },
   "outputs": [],
   "source": [
    "data = [\n",
    "  {\"id\": 1, \"name\": \"Alice\", \"age\": 25, \"city\": \"New York\"},\n",
    "  {\"id\": 2, \"name\": \"Bob\", \"age\": 30, \"city\": \"Los Angeles\"},\n",
    "  {\"id\": 3, \"name\": \"Charlie\", \"age\": 28, \"city\": \"Chicago\"},\n",
    "  {\"id\": 4, \"name\": \"Diana\", \"age\": 32, \"city\": \"San Francisco\"},\n",
    "  {\"id\": 5, \"name\": \"Ethan\", \"age\": 27, \"city\": \"Boston\"},\n",
    "  {\"id\": 6, \"name\": \"Fiona\", \"age\": 24, \"city\": \"Seattle\"},\n",
    "  {\"id\": 7, \"name\": \"George\", \"age\": 35, \"city\": \"Austin\"},\n",
    "  {\"id\": 8, \"name\": \"Hannah\", \"age\": 29, \"city\": \"Denver\"},\n",
    "  {\"id\": 9, \"name\": \"Ian\", \"age\": 31, \"city\": \"Portland\"},\n",
    "  {\"id\": 10, \"name\": \"Jasmine\", \"age\": 26, \"city\": \"Atlanta\"},\n",
    "  {\"id\": 11, \"name\": \"Karl\", \"age\": 33, \"city\": \"Phoenix\"},\n",
    "  {\"id\": 12, \"name\": \"Laura\", \"age\": 22, \"city\": \"Miami\"},\n",
    "  {\"id\": 13, \"name\": \"Mike\", \"age\": 37, \"city\": \"Dallas\"},\n",
    "  {\"id\": 14, \"name\": \"Nina\", \"age\": 28, \"city\": \"Houston\"},\n",
    "  {\"id\": 15, \"name\": \"Oscar\", \"age\": 40, \"city\": \"San Diego\"},\n",
    "  {\"id\": 16, \"name\": \"Paula\", \"age\": 36, \"city\": \"Philadelphia\"},\n",
    "  {\"id\": 17, \"name\": \"Quentin\", \"age\": 29, \"city\": \"Las Vegas\"},\n",
    "  {\"id\": 18, \"name\": \"Rachel\", \"age\": 34, \"city\": \"Minneapolis\"},\n",
    "  {\"id\": 19, \"name\": \"Sam\", \"age\": 27, \"city\": \"Kansas City\"},\n",
    "  {\"id\": 20, \"name\": \"Tina\", \"age\": 25, \"city\": \"Charlotte\"},\n",
    "  {\"id\": 21, \"name\": \"Uma\", \"age\": 31, \"city\": \"Columbus\"},\n",
    "  {\"id\": 22, \"name\": \"Victor\", \"age\": 26, \"city\": \"Baltimore\"},\n",
    "  {\"id\": 23, \"name\": \"Wendy\", \"age\": 30, \"city\": \"Sacramento\"},\n",
    "  {\"id\": 24, \"name\": \"Xavier\", \"age\": 33, \"city\": \"Salt Lake City\"},\n",
    "  {\"id\": 25, \"name\": \"Yara\", \"age\": 28, \"city\": \"Orlando\"},\n",
    "  {\"id\": 26, \"name\": \"Zack\", \"age\": 35, \"city\": \"Nashville\"},\n",
    "  {\"id\": 27, \"name\": \"Aaron\", \"age\": 27, \"city\": \"Indianapolis\"},\n",
    "  {\"id\": 28, \"name\": \"Bella\", \"age\": 29, \"city\": \"Cincinnati\"},\n",
    "  {\"id\": 29, \"name\": \"Caleb\", \"age\": 31, \"city\": \"Cleveland\"},\n",
    "  {\"id\": 30, \"name\": \"Derek\", \"age\": 26, \"city\": \"Pittsburgh\"},\n",
    "  {\"id\": 31, \"name\": \"Elena\", \"age\": 34, \"city\": \"Raleigh\"},\n",
    "  {\"id\": 32, \"name\": \"Frank\", \"age\": 38, \"city\": \"Milwaukee\"},\n",
    "  {\"id\": 33, \"name\": \"Grace\", \"age\": 25, \"city\": \"Tampa\"},\n",
    "  {\"id\": 34, \"name\": \"Henry\", \"age\": 32, \"city\": \"St. Louis\"},\n",
    "  {\"id\": 35, \"name\": \"Ivy\", \"age\": 30, \"city\": \"Buffalo\"},\n",
    "  {\"id\": 36, \"name\": \"Jack\", \"age\": 27, \"city\": \"Birmingham\"},\n",
    "  {\"id\": 37, \"name\": \"Kara\", \"age\": 29, \"city\": \"Richmond\"},\n",
    "  {\"id\": 38, \"name\": \"Leo\", \"age\": 33, \"city\": \"Louisville\"},\n",
    "  {\"id\": 39, \"name\": \"Mia\", \"age\": 24, \"city\": \"Oklahoma City\"},\n",
    "  {\"id\": 40, \"name\": \"Noah\", \"age\": 35, \"city\": \"Omaha\"},\n",
    "  {\"id\": 41, \"name\": \"Olivia\", \"age\": 28, \"city\": \"Boise\"},\n",
    "  {\"id\": 42, \"name\": \"Peter\", \"age\": 31, \"city\": \"Madison\"},\n",
    "  {\"id\": 43, \"name\": \"Queen\", \"age\": 26, \"city\": \"Des Moines\"},\n",
    "  {\"id\": 44, \"name\": \"Ryan\", \"age\": 37, \"city\": \"Fresno\"},\n",
    "  {\"id\": 45, \"name\": \"Sophia\", \"age\": 29, \"city\": \"Bakersfield\"},\n",
    "  {\"id\": 46, \"name\": \"Thomas\", \"age\": 34, \"city\": \"Honolulu\"},\n",
    "  {\"id\": 47, \"name\": \"Ursula\", \"age\": 32, \"city\": \"Anchorage\"},\n",
    "  {\"id\": 48, \"name\": \"Vince\", \"age\": 30, \"city\": \"Spokane\"},\n",
    "  {\"id\": 49, \"name\": \"Will\", \"age\": 27, \"city\": \"Tacoma\"},\n",
    "  {\"id\": 50, \"name\": \"Zoe\", \"age\": 25, \"city\": \"Reno\"}\n",
    "]\n"
   ]
  },
  {
   "cell_type": "code",
   "execution_count": 0,
   "metadata": {
    "application/vnd.databricks.v1+cell": {
     "cellMetadata": {
      "byteLimit": 2048000,
      "rowLimit": 10000
     },
     "inputWidgets": {},
     "nuid": "16d006d1-e4eb-4ea3-a4fd-8f225e739a26",
     "showTitle": false,
     "tableResultSettingsMap": {},
     "title": ""
    }
   },
   "outputs": [],
   "source": [
    "dfjson = spark.createDataFrame(data, schema)"
   ]
  },
  {
   "cell_type": "code",
   "execution_count": 0,
   "metadata": {
    "application/vnd.databricks.v1+cell": {
     "cellMetadata": {
      "byteLimit": 2048000,
      "rowLimit": 10000
     },
     "inputWidgets": {},
     "nuid": "0a3a7373-d52f-4c0d-8770-f4b055040097",
     "showTitle": false,
     "tableResultSettingsMap": {},
     "title": ""
    }
   },
   "outputs": [],
   "source": [
    "display(dfjson)"
   ]
  },
  {
   "cell_type": "code",
   "execution_count": 0,
   "metadata": {
    "application/vnd.databricks.v1+cell": {
     "cellMetadata": {
      "byteLimit": 2048000,
      "rowLimit": 10000
     },
     "inputWidgets": {},
     "nuid": "0e4e726a-0e8c-4db6-aa0e-22e104aed1de",
     "showTitle": false,
     "tableResultSettingsMap": {},
     "title": ""
    }
   },
   "outputs": [],
   "source": [
    "dfjson1 = spark.read.option(\"inferschema\", \"true\").option(\"multiline\", \"true\").option(\"mode\", \"DROPMALFORMED\").option(\"header\", \"true\").format(\"json\").load(\"dbfs:/FileStore/nested_people_1000.json\")\n"
   ]
  },
  {
   "cell_type": "code",
   "execution_count": 0,
   "metadata": {
    "application/vnd.databricks.v1+cell": {
     "cellMetadata": {
      "byteLimit": 2048000,
      "rowLimit": 10000
     },
     "inputWidgets": {},
     "nuid": "471d7c24-32c4-4e55-a0f2-ab2817a1f77a",
     "showTitle": false,
     "tableResultSettingsMap": {},
     "title": ""
    }
   },
   "outputs": [],
   "source": [
    "display(dfjson1)"
   ]
  },
  {
   "cell_type": "code",
   "execution_count": 0,
   "metadata": {
    "application/vnd.databricks.v1+cell": {
     "cellMetadata": {
      "byteLimit": 2048000,
      "rowLimit": 10000
     },
     "inputWidgets": {},
     "nuid": "4be4df7b-9fcc-4405-8704-94271a11ab3d",
     "showTitle": false,
     "tableResultSettingsMap": {},
     "title": ""
    }
   },
   "outputs": [],
   "source": [
    "from pyspark.sql.types import StructType, StructField, StringType, IntegerType, BooleanType\n",
    "\n",
    "schema = StructType([\n",
    "    StructField(\"id\", IntegerType(), True),\n",
    "    StructField(\"name\", StringType(), True),\n",
    "    StructField(\"email\", StringType(), True),\n",
    "    StructField(\"address\", StructType([\n",
    "        StructField(\"city\", StringType(), True),\n",
    "        StructField(\"zip\", StringType(), True),\n",
    "        StructField(\"street\", StringType(), True),\n",
    "        StructField(\"number\", IntegerType(), True)\n",
    "    ]), True),\n",
    "    StructField(\"profile\", StructType([\n",
    "        StructField(\"age\", IntegerType(), True),\n",
    "        StructField(\"active\", BooleanType(), True),\n",
    "        StructField(\"join_date\", StringType(), True)\n",
    "    ]), True)\n",
    "])\n",
    "\n",
    "dfjson2 = spark.read.schema(schema) \\\n",
    "    .option(\"mode\", \"DROPMALFORMED\") \\\n",
    "    .json(\"dbfs:/FileStore/nested_people_1000.json\")\n"
   ]
  },
  {
   "cell_type": "code",
   "execution_count": 0,
   "metadata": {
    "application/vnd.databricks.v1+cell": {
     "cellMetadata": {
      "byteLimit": 2048000,
      "rowLimit": 10000
     },
     "inputWidgets": {},
     "nuid": "a34bfa70-2452-43ed-958a-3fc864e7466f",
     "showTitle": false,
     "tableResultSettingsMap": {},
     "title": ""
    }
   },
   "outputs": [],
   "source": [
    "display(dfjson2)"
   ]
  },
  {
   "cell_type": "code",
   "execution_count": 0,
   "metadata": {
    "application/vnd.databricks.v1+cell": {
     "cellMetadata": {
      "byteLimit": 2048000,
      "rowLimit": 10000
     },
     "inputWidgets": {},
     "nuid": "0cdc19be-3b31-4010-a0c9-42e8d525b38d",
     "showTitle": false,
     "tableResultSettingsMap": {},
     "title": ""
    }
   },
   "outputs": [],
   "source": [
    "dfjson2.select(\"address\",\"name\",\"email\").show()"
   ]
  },
  {
   "cell_type": "code",
   "execution_count": 0,
   "metadata": {
    "application/vnd.databricks.v1+cell": {
     "cellMetadata": {
      "byteLimit": 2048000,
      "rowLimit": 10000
     },
     "inputWidgets": {},
     "nuid": "a2d00588-1a0d-49bb-a166-e43ffcd30189",
     "showTitle": false,
     "tableResultSettingsMap": {},
     "title": ""
    }
   },
   "outputs": [],
   "source": [
    "df_str_json = spark.read.format(\"text\").load(\"/FileStore/strjson-1.txt\")"
   ]
  },
  {
   "cell_type": "code",
   "execution_count": 0,
   "metadata": {
    "application/vnd.databricks.v1+cell": {
     "cellMetadata": {
      "byteLimit": 2048000,
      "rowLimit": 10000
     },
     "inputWidgets": {},
     "nuid": "663f4e14-3269-4c4c-9623-46d14482e9e8",
     "showTitle": false,
     "tableResultSettingsMap": {},
     "title": ""
    }
   },
   "outputs": [],
   "source": [
    "display(df_str_json)"
   ]
  },
  {
   "cell_type": "code",
   "execution_count": 0,
   "metadata": {
    "application/vnd.databricks.v1+cell": {
     "cellMetadata": {
      "byteLimit": 2048000,
      "rowLimit": 10000
     },
     "inputWidgets": {},
     "nuid": "dfaf7e08-3e03-45fd-a16a-bc935133cd7c",
     "showTitle": false,
     "tableResultSettingsMap": {},
     "title": ""
    }
   },
   "outputs": [],
   "source": [
    "df.printSchema()"
   ]
  },
  {
   "cell_type": "code",
   "execution_count": 0,
   "metadata": {
    "application/vnd.databricks.v1+cell": {
     "cellMetadata": {
      "byteLimit": 2048000,
      "rowLimit": 10000
     },
     "inputWidgets": {},
     "nuid": "0186ed62-072c-4b29-a5e0-a69524c99daf",
     "showTitle": false,
     "tableResultSettingsMap": {},
     "title": ""
    }
   },
   "outputs": [],
   "source": [
    "dfText = spark.read.format(\"text\").load(\"/FileStore/strjson-2.txt\")"
   ]
  },
  {
   "cell_type": "code",
   "execution_count": 0,
   "metadata": {
    "application/vnd.databricks.v1+cell": {
     "cellMetadata": {
      "byteLimit": 2048000,
      "rowLimit": 10000
     },
     "inputWidgets": {},
     "nuid": "2aae9302-e582-4e13-81b2-342a0fbd4ebc",
     "showTitle": false,
     "tableResultSettingsMap": {},
     "title": ""
    }
   },
   "outputs": [],
   "source": [
    "display(dfText)"
   ]
  },
  {
   "cell_type": "code",
   "execution_count": 0,
   "metadata": {
    "application/vnd.databricks.v1+cell": {
     "cellMetadata": {
      "byteLimit": 2048000,
      "rowLimit": 10000
     },
     "inputWidgets": {},
     "nuid": "81366fa1-8502-4e40-bf85-17c4c462e861",
     "showTitle": false,
     "tableResultSettingsMap": {},
     "title": ""
    }
   },
   "outputs": [],
   "source": [
    "_schema = \"id INT, item STRING, price double, quantity INT\"\n",
    "\n",
    "\n",
    "from pyspark.sql.functions import from_json\n",
    "\n",
    "dfExpanded = dfText.withColumn(\"parsed\", from_json(dfText.value, _schema))\n"
   ]
  },
  {
   "cell_type": "code",
   "execution_count": 0,
   "metadata": {
    "application/vnd.databricks.v1+cell": {
     "cellMetadata": {
      "byteLimit": 2048000,
      "rowLimit": 10000
     },
     "inputWidgets": {},
     "nuid": "ce656d6e-9ed3-459e-9cd9-299244b109be",
     "showTitle": false,
     "tableResultSettingsMap": {},
     "title": ""
    }
   },
   "outputs": [],
   "source": [
    "dfExpanded.printSchema()"
   ]
  },
  {
   "cell_type": "code",
   "execution_count": 0,
   "metadata": {
    "application/vnd.databricks.v1+cell": {
     "cellMetadata": {
      "byteLimit": 2048000,
      "rowLimit": 10000
     },
     "inputWidgets": {},
     "nuid": "a7469df2-fbe1-49de-adb5-8e28687df3f7",
     "showTitle": false,
     "tableResultSettingsMap": {},
     "title": ""
    }
   },
   "outputs": [],
   "source": [
    "display(dfExpanded)"
   ]
  },
  {
   "cell_type": "code",
   "execution_count": 0,
   "metadata": {
    "application/vnd.databricks.v1+cell": {
     "cellMetadata": {
      "byteLimit": 2048000,
      "rowLimit": 10000
     },
     "inputWidgets": {},
     "nuid": "ca5525b7-4e21-4ef1-b724-478cb1bfd439",
     "showTitle": false,
     "tableResultSettingsMap": {},
     "title": ""
    }
   },
   "outputs": [],
   "source": [
    "from pyspark.sql.functions import to_json\n",
    "\n",
    "dfUnparsed = dfExpanded.withColumn(\"unparsed\", to_json(dfExpanded.parsed))\n",
    "display(dfUnparsed)"
   ]
  },
  {
   "cell_type": "code",
   "execution_count": 0,
   "metadata": {
    "application/vnd.databricks.v1+cell": {
     "cellMetadata": {
      "byteLimit": 2048000,
      "rowLimit": 10000
     },
     "inputWidgets": {},
     "nuid": "9b4b0161-1de1-4e08-ac58-bb45814d70c5",
     "showTitle": false,
     "tableResultSettingsMap": {},
     "title": ""
    }
   },
   "outputs": [],
   "source": [
    "extractvaluedfExpanded = dfExpanded.select(\"parsed.*\")"
   ]
  },
  {
   "cell_type": "code",
   "execution_count": 0,
   "metadata": {
    "application/vnd.databricks.v1+cell": {
     "cellMetadata": {
      "byteLimit": 2048000,
      "rowLimit": 10000
     },
     "inputWidgets": {},
     "nuid": "15bd3398-2829-43f6-b1d4-62aab6c80a01",
     "showTitle": false,
     "tableResultSettingsMap": {},
     "title": ""
    }
   },
   "outputs": [],
   "source": [
    "display(extractvaluedfExpanded)"
   ]
  },
  {
   "cell_type": "code",
   "execution_count": 0,
   "metadata": {
    "application/vnd.databricks.v1+cell": {
     "cellMetadata": {
      "byteLimit": 2048000,
      "rowLimit": 10000
     },
     "inputWidgets": {},
     "nuid": "a77ebc86-9476-4221-90e7-e017952fffe0",
     "showTitle": false,
     "tableResultSettingsMap": {},
     "title": ""
    }
   },
   "outputs": [],
   "source": [
    "display(dfExpanded)"
   ]
  },
  {
   "cell_type": "code",
   "execution_count": 0,
   "metadata": {
    "application/vnd.databricks.v1+cell": {
     "cellMetadata": {
      "byteLimit": 2048000,
      "rowLimit": 10000
     },
     "inputWidgets": {},
     "nuid": "3554eb32-e443-4e2b-bd94-c2b449afbee1",
     "showTitle": false,
     "tableResultSettingsMap": {},
     "title": ""
    }
   },
   "outputs": [],
   "source": [
    "from pyspark.sql import SparkSession\n",
    "from pyspark.sql.functions import from_json, to_json, col\n",
    "from pyspark.sql.types import StructType, StructField, IntegerType, StringType\n",
    "\n",
    "# Start Spark session\n",
    "spark = SparkSession.builder.getOrCreate()\n",
    "\n",
    "# Sample JSON strings (single column)\n",
    "data = [\n",
    "    ('{\"id\":1,\"name\":\"Alice\",\"city\":\"New York\"}',),\n",
    "    ('{\"id\":2,\"name\":\"Bob\",\"city\":\"Los Angeles\"}',),\n",
    "    ('{\"id\":3,\"name\":\"Charlie\",\"city\":\"Chicago\"}',)\n",
    "]\n",
    "\n",
    "df = spark.createDataFrame(data, [\"value\"])\n",
    "df.show(truncate=False)\n"
   ]
  },
  {
   "cell_type": "code",
   "execution_count": 0,
   "metadata": {
    "application/vnd.databricks.v1+cell": {
     "cellMetadata": {
      "byteLimit": 2048000,
      "rowLimit": 10000
     },
     "inputWidgets": {},
     "nuid": "cb88ad54-622b-4972-bd21-19e7c805f869",
     "showTitle": false,
     "tableResultSettingsMap": {},
     "title": ""
    }
   },
   "outputs": [],
   "source": [
    "# Define schema\n",
    "schema = StructType([\n",
    "    StructField(\"id\", IntegerType(), True),\n",
    "    StructField(\"name\", StringType(), True),\n",
    "    StructField(\"city\", StringType(), True)\n",
    "])\n",
    "\n",
    "# Parse JSON string column into struct\n",
    "df_parsed = df.withColumn(\"parsed\", from_json(col(\"value\"), schema))\n",
    "\n",
    "# Extract fields from struct\n",
    "df_structured = df_parsed.select(\"parsed.*\")\n",
    "df_structured.show()\n"
   ]
  },
  {
   "cell_type": "code",
   "execution_count": 0,
   "metadata": {
    "application/vnd.databricks.v1+cell": {
     "cellMetadata": {
      "byteLimit": 2048000,
      "rowLimit": 10000
     },
     "inputWidgets": {},
     "nuid": "c952f124-269e-483e-851a-d965497748b5",
     "showTitle": false,
     "tableResultSettingsMap": {},
     "title": ""
    }
   },
   "outputs": [],
   "source": [
    "from pyspark.sql.functions import to_json, struct\n",
    "\n",
    "# Convert all columns into a JSON string column\n",
    "df_json = df_structured.withColumn(\"json_string\", to_json(struct(*df_structured.columns)))\n",
    "display(df_json)"
   ]
  },
  {
   "cell_type": "code",
   "execution_count": 0,
   "metadata": {
    "application/vnd.databricks.v1+cell": {
     "cellMetadata": {
      "byteLimit": 2048000,
      "rowLimit": 10000
     },
     "inputWidgets": {},
     "nuid": "0efd59d9-8c06-47f9-9000-95f2cfad751e",
     "showTitle": false,
     "tableResultSettingsMap": {},
     "title": ""
    }
   },
   "outputs": [],
   "source": [
    "# Convert all columns into a JSON string column\n",
    "from pyspark.sql.functions import struct, to_json, col\n",
    "# Convert all columns into a JSON string column\n",
    "cols = df_structured.columns\n",
    "df_json = df_structured.withColumn(\"json_string\", to_json(struct([col(c) for c in cols])))\n",
    "\n",
    "df_json.show(truncate=False)\n"
   ]
  },
  {
   "cell_type": "code",
   "execution_count": 0,
   "metadata": {
    "application/vnd.databricks.v1+cell": {
     "cellMetadata": {
      "byteLimit": 2048000,
      "rowLimit": 10000
     },
     "inputWidgets": {},
     "nuid": "cb32a27b-9e4e-4ebb-8ef3-20d5ae0aad8c",
     "showTitle": false,
     "tableResultSettingsMap": {},
     "title": ""
    }
   },
   "outputs": [],
   "source": [
    "display(dfjson2)"
   ]
  },
  {
   "cell_type": "code",
   "execution_count": 0,
   "metadata": {
    "application/vnd.databricks.v1+cell": {
     "cellMetadata": {
      "byteLimit": 2048000,
      "rowLimit": 10000
     },
     "inputWidgets": {},
     "nuid": "42e89a4c-9a9f-4139-9e6f-4f277b6b5443",
     "showTitle": false,
     "tableResultSettingsMap": {},
     "title": ""
    }
   },
   "outputs": [],
   "source": [
    "display(dfjson2)"
   ]
  },
  {
   "cell_type": "code",
   "execution_count": 0,
   "metadata": {
    "application/vnd.databricks.v1+cell": {
     "cellMetadata": {
      "byteLimit": 2048000,
      "rowLimit": 10000
     },
     "inputWidgets": {},
     "nuid": "fdf7d347-fe3c-4b9b-88b7-0c17310fb3a1",
     "showTitle": false,
     "tableResultSettingsMap": {},
     "title": ""
    }
   },
   "outputs": [],
   "source": [
    "display(dfjson2)"
   ]
  },
  {
   "cell_type": "code",
   "execution_count": 0,
   "metadata": {
    "application/vnd.databricks.v1+cell": {
     "cellMetadata": {
      "byteLimit": 2048000,
      "rowLimit": 10000
     },
     "inputWidgets": {},
     "nuid": "b32420df-36dc-49fc-8065-93350aa1b58c",
     "showTitle": false,
     "tableResultSettingsMap": {},
     "title": ""
    }
   },
   "outputs": [],
   "source": [
    "from pyspark.sql.functions import *\n",
    "\n",
    "dfjson2exploded = dfjson2.withColumn(\"exploded\", explode(col(\"address\")))"
   ]
  },
  {
   "cell_type": "code",
   "execution_count": 0,
   "metadata": {
    "application/vnd.databricks.v1+cell": {
     "cellMetadata": {
      "byteLimit": 2048000,
      "rowLimit": 10000
     },
     "inputWidgets": {},
     "nuid": "5dea48af-b344-4224-a40e-40de6664a6a4",
     "showTitle": false,
     "tableResultSettingsMap": {},
     "title": ""
    }
   },
   "outputs": [],
   "source": [
    "# display(dfjson2exploded)"
   ]
  },
  {
   "cell_type": "code",
   "execution_count": 0,
   "metadata": {
    "application/vnd.databricks.v1+cell": {
     "cellMetadata": {
      "byteLimit": 2048000,
      "rowLimit": 10000
     },
     "inputWidgets": {},
     "nuid": "d6e22479-e3b2-4aba-a3d0-966288d75dfb",
     "showTitle": false,
     "tableResultSettingsMap": {},
     "title": ""
    }
   },
   "outputs": [],
   "source": [
    "from pyspark.sql.functions import col\n",
    "\n",
    "dfjson2exploded = dfjson2.withColumn(\"city\", col(\"address.city\")) \\\n",
    "                         .withColumn(\"zip\", col(\"address.zip\")) \\\n",
    "                         .withColumn(\"street\", col(\"address.street\")) \\\n",
    "                         .withColumn(\"number\", col(\"address.number\"))\n",
    "\n",
    "display(dfjson2exploded)"
   ]
  },
  {
   "cell_type": "code",
   "execution_count": 0,
   "metadata": {
    "application/vnd.databricks.v1+cell": {
     "cellMetadata": {
      "byteLimit": 2048000,
      "rowLimit": 10000
     },
     "inputWidgets": {},
     "nuid": "7b6d4eb5-add5-4417-8edd-6671120e386d",
     "showTitle": false,
     "tableResultSettingsMap": {},
     "title": ""
    }
   },
   "outputs": [],
   "source": [
    "# spark.conf.get('spark.default.parallelism')"
   ]
  },
  {
   "cell_type": "code",
   "execution_count": 0,
   "metadata": {
    "application/vnd.databricks.v1+cell": {
     "cellMetadata": {},
     "inputWidgets": {},
     "nuid": "374050ce-4a8c-4232-a07d-f9c222b64bb6",
     "showTitle": false,
     "tableResultSettingsMap": {},
     "title": ""
    }
   },
   "outputs": [],
   "source": []
  }
 ],
 "metadata": {
  "application/vnd.databricks.v1+notebook": {
   "computePreferences": {
    "hardware": {
     "accelerator": null,
     "gpuPoolId": null,
     "memory": null
    }
   },
   "dashboards": [],
   "environmentMetadata": {
    "base_environment": "",
    "environment_version": "2"
   },
   "inputWidgetPreferences": null,
   "language": "python",
   "notebookMetadata": {
    "pythonIndentUnit": 4
   },
   "notebookName": "readcsv",
   "widgets": {}
  },
  "language_info": {
   "name": "python"
  }
 },
 "nbformat": 4,
 "nbformat_minor": 0
}
