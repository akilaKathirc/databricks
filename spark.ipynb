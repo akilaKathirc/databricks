{
 "cells": [
  {
   "cell_type": "code",
   "execution_count": 0,
   "metadata": {
    "application/vnd.databricks.v1+cell": {
     "cellMetadata": {
      "byteLimit": 2048000,
      "rowLimit": 10000
     },
     "inputWidgets": {},
     "nuid": "4e2f7094-4cec-4fd9-971d-d09c0f566514",
     "showTitle": false,
     "tableResultSettingsMap": {},
     "title": ""
    }
   },
   "outputs": [],
   "source": [
    "from pyspark.sql import SparkSession"
   ]
  },
  {
   "cell_type": "code",
   "execution_count": 0,
   "metadata": {
    "application/vnd.databricks.v1+cell": {
     "cellMetadata": {
      "byteLimit": 2048000,
      "rowLimit": 10000
     },
     "inputWidgets": {},
     "nuid": "c8c1bb06-4b8a-4362-b993-0c270b567b67",
     "showTitle": false,
     "tableResultSettingsMap": {},
     "title": ""
    }
   },
   "outputs": [],
   "source": [
    "spark = SparkSession.builder.appName(\"akila\").getOrCreate()\n",
    "emp_data =[\n",
    "[\"001\", \"101\", \"John Doe\", \"30\", \"Male\", \"50000\", \"2015-01-01\"],\n",
    "[\"002\",\"101\", \"Jane Smith\", \"25\", \"Female\", \"45000\", \"2016-02-15\"],\n",
    "[\"003\", \"102\", \"Bob Brown\", \"35\", \"Male\", \"55000\", \"2014-05-01\"],\n",
    "[\"004\",\"102\", \"Alice Lee\",\"28\", \"Female\", \"48000\", \"2017-09-30\"],\n",
    "[\"005\", \"103\",\"Jack Chan\", \"40\", \"Male\", \"60000\", \"2013-04-01\"],\n",
    "[\"006\",\"103\",\"Jill Wong\", \"32\", \"Female\", \"52000\", \"2018-07-01\"],\n",
    "[\"007\",\"101\",\"James Johnson\", \"42\", \"Male\", \"70000\", \"2012-03-15\"],\n",
    "[\"008\",\"102\", \"Kate Kim\", \"29\", \"Female\", \"51000\", \"2019-10-01\"],\n",
    "[\"009\",\"103\", \"Tom Tan\",\"33\", \"Male\", \"58000\", \"2016-06-01\"],\n",
    "[\"010\",\"104\", \"Lisa Lee\", \"27\", \"Female\", \"47000\", \"2018-08-01\"],\n",
    "[\"011\", \"104\", \"David Park\",\"38\", \"Male\", \"65000\", \"2015-11-01\"],\n",
    "[\"012\",\"105\", \"Susan Chen\",\"31\", \"Female\", \"54000\", \"2017-02-15\"],\n",
    "[\"013\", \"106\", \"Brian Kim\", \"45\", \"Male\", \"75000\", \"2011-07-01\"],\n",
    "[\"014\", \"107\", \"Emily Lee\", \"26\", \"Female\", \"46000\", \"2019-01-01\"],\n",
    "[\"015\",\"106\", \"Michael Lee\", \"37\", \"Male\", \"63000\",\"2014-09-30\"],\n",
    "[\"016\", \"107\", \"Kelly Zhang\", \"30\", \"Female\", \"49000\", \"2018-04-01\"],\n",
    "[\"017\",\"105\", \"George Wang\", \"34\", \"Male\", \"57000\", \"2016-03-15\"],\n",
    "[\"018\",\"104\", \"Nancy Liu\", \"29\", \"Female\", \"50000\", \"2017-06-01\"],\n",
    "[\"019\",\"103\", \"Steven Chen\", \"36\", \"Male\", \"62000\", \"2015-08-01\"],\n",
    "[\"020\",\"102\", \"Grace Kim\", \"32\", \"Female\", \"53000\", \"2018-11-01\"]\n",
    "]\n",
    "emp_schema = \"employee_id string, department_id string, name string, age string, gender string, salary string, hire_date string\"\n",
    "\n",
    "spark.createDataFrame(data=emp_data, schema=emp_schema).write.mode(\"overwrite\").saveAsTable(\"employee\")\n",
    "\n",
    "df = spark.createDataFrame(data=emp_data, schema=emp_schema)\n",
    "\n",
    "display(df)"
   ]
  },
  {
   "cell_type": "code",
   "execution_count": 0,
   "metadata": {
    "application/vnd.databricks.v1+cell": {
     "cellMetadata": {
      "byteLimit": 2048000,
      "rowLimit": 10000
     },
     "inputWidgets": {},
     "nuid": "9070ae99-c819-4594-99f7-dddfd3043a4a",
     "showTitle": false,
     "tableResultSettingsMap": {},
     "title": ""
    }
   },
   "outputs": [],
   "source": [
    "spark.createDataFrame(data=emp_data, schema=emp_schema).write.mode(\"overwrite\").saveAsTable(\"employee\")"
   ]
  },
  {
   "cell_type": "code",
   "execution_count": 0,
   "metadata": {
    "application/vnd.databricks.v1+cell": {
     "cellMetadata": {
      "byteLimit": 2048000,
      "rowLimit": 10000
     },
     "inputWidgets": {},
     "nuid": "cb1a4e24-cd53-4381-8d33-726fcbbf944a",
     "showTitle": false,
     "tableResultSettingsMap": {},
     "title": ""
    }
   },
   "outputs": [],
   "source": [
    "df = spark.createDataFrame(data=emp_data, schema=emp_schema)"
   ]
  },
  {
   "cell_type": "code",
   "execution_count": 0,
   "metadata": {
    "application/vnd.databricks.v1+cell": {
     "cellMetadata": {
      "byteLimit": 2048000,
      "rowLimit": 10000
     },
     "inputWidgets": {},
     "nuid": "fed6c5ff-d61f-4a03-ac9b-8a784387f2b3",
     "showTitle": false,
     "tableResultSettingsMap": {},
     "title": ""
    }
   },
   "outputs": [],
   "source": [
    "from pyspark.sql.window import Window\n",
    "from pyspark.sql.functions import *\n",
    "\n",
    "window_Spec = Window.partitionBy(col(\"department_id\")).orderBy(col(\"salary\").desc())\n",
    "maxfunc = max(col(\"salary\")).over(window_Spec)\n",
    "dfd = df.withColumn(\"maxSalary\", maxfunc)\n",
    "\n",
    "display(dfd)"
   ]
  },
  {
   "cell_type": "code",
   "execution_count": 0,
   "metadata": {
    "application/vnd.databricks.v1+cell": {
     "cellMetadata": {
      "byteLimit": 2048000,
      "rowLimit": 10000
     },
     "inputWidgets": {},
     "nuid": "b65f2712-cb6e-4838-a642-45682c9a2dcb",
     "showTitle": false,
     "tableResultSettingsMap": {},
     "title": ""
    }
   },
   "outputs": [],
   "source": [
    "windowSpec1 = Window.partitionBy(col(\"department_id\")).orderBy(col(\"salary\").desc())\n",
    "\n",
    "rnOverClause = row_number().over(windowSpec1)\n",
    "\n",
    "dfrns = df.withColumn(\"RowNumberOnSalary\", rnOverClause)"
   ]
  },
  {
   "cell_type": "code",
   "execution_count": 0,
   "metadata": {
    "application/vnd.databricks.v1+cell": {
     "cellMetadata": {
      "byteLimit": 2048000,
      "rowLimit": 10000
     },
     "inputWidgets": {},
     "nuid": "766d6df5-43b9-495b-9077-c34693815491",
     "showTitle": false,
     "tableResultSettingsMap": {},
     "title": ""
    }
   },
   "outputs": [],
   "source": [
    "dfrns.filter(col(\"RowNumberOnSalary\") == 3).show()"
   ]
  },
  {
   "cell_type": "code",
   "execution_count": 0,
   "metadata": {
    "application/vnd.databricks.v1+cell": {
     "cellMetadata": {
      "byteLimit": 2048000,
      "rowLimit": 10000
     },
     "inputWidgets": {},
     "nuid": "d56462f8-15d7-4150-8dc8-e965b88d1a5c",
     "showTitle": false,
     "tableResultSettingsMap": {},
     "title": ""
    }
   },
   "outputs": [],
   "source": [
    "dfdndr = df.withColumn(\"denseRank\" , expr(\"dense_rank() over(partition By department_id order by salary desc)\"))\n",
    "\n",
    "display(dfdndr)\n"
   ]
  },
  {
   "cell_type": "code",
   "execution_count": 0,
   "metadata": {
    "application/vnd.databricks.v1+cell": {
     "cellMetadata": {
      "byteLimit": 2048000,
      "rowLimit": 10000
     },
     "inputWidgets": {},
     "nuid": "bca67f24-3bfa-4187-a916-3e86467faf46",
     "showTitle": false,
     "tableResultSettingsMap": {},
     "title": ""
    }
   },
   "outputs": [],
   "source": [
    "df.repartition(3).write.mode(\"overwrite\").format(\"delta\").save(\"/delta/df3\")"
   ]
  },
  {
   "cell_type": "code",
   "execution_count": 0,
   "metadata": {
    "application/vnd.databricks.v1+cell": {
     "cellMetadata": {
      "byteLimit": 2048000,
      "rowLimit": 10000
     },
     "inputWidgets": {},
     "nuid": "2f833f98-2e7f-411b-bcbe-65371d3fa5c4",
     "showTitle": false,
     "tableResultSettingsMap": {},
     "title": ""
    }
   },
   "outputs": [],
   "source": [
    "df.repartition(9).write.mode(\"overwrite\").format(\"csv\").save(\"data1/df\")"
   ]
  },
  {
   "cell_type": "code",
   "execution_count": 0,
   "metadata": {
    "application/vnd.databricks.v1+cell": {
     "cellMetadata": {
      "byteLimit": 2048000,
      "rowLimit": 10000
     },
     "inputWidgets": {},
     "nuid": "1ccb5af7-eeb1-4542-98c8-a15d6bc7e508",
     "showTitle": false,
     "tableResultSettingsMap": {},
     "title": ""
    }
   },
   "outputs": [],
   "source": [
    "dbutils.fs.ls(\"data1/df/\")"
   ]
  },
  {
   "cell_type": "code",
   "execution_count": 0,
   "metadata": {
    "application/vnd.databricks.v1+cell": {
     "cellMetadata": {
      "byteLimit": 2048000,
      "rowLimit": 10000
     },
     "inputWidgets": {},
     "nuid": "b5ffe876-dafc-4183-8a57-c38aeaf11a07",
     "showTitle": false,
     "tableResultSettingsMap": {},
     "title": ""
    }
   },
   "outputs": [],
   "source": [
    "dbutils.fs.ls(\"/delta/df3\")\n"
   ]
  },
  {
   "cell_type": "code",
   "execution_count": 0,
   "metadata": {
    "application/vnd.databricks.v1+cell": {
     "cellMetadata": {
      "byteLimit": 2048000,
      "rowLimit": 10000
     },
     "inputWidgets": {},
     "nuid": "5ae56962-f956-4f8e-8d31-e650153bdaa2",
     "showTitle": false,
     "tableResultSettingsMap": {},
     "title": ""
    }
   },
   "outputs": [],
   "source": [
    "from pyspark.sql.functions import *\n",
    "\n",
    "\n",
    "df.withColumn(\"partitionNum\" , spark_partition_id()).repartition(6,\"department_id\").write.mode(\"overwrite\").save(\"/data/dfg/\")"
   ]
  },
  {
   "cell_type": "code",
   "execution_count": 0,
   "metadata": {
    "application/vnd.databricks.v1+cell": {
     "cellMetadata": {
      "byteLimit": 2048000,
      "rowLimit": 10000
     },
     "inputWidgets": {},
     "nuid": "4d48488f-aa68-4416-8e11-fc8d2e8c9315",
     "showTitle": false,
     "tableResultSettingsMap": {},
     "title": ""
    }
   },
   "outputs": [],
   "source": [
    "dbutils.fs.ls(\"/data/dfg/\")"
   ]
  },
  {
   "cell_type": "code",
   "execution_count": 0,
   "metadata": {
    "application/vnd.databricks.v1+cell": {
     "cellMetadata": {
      "byteLimit": 2048000,
      "rowLimit": 10000
     },
     "inputWidgets": {},
     "nuid": "7022f8e9-2587-4b1f-b64a-e370abfcce4f",
     "showTitle": false,
     "tableResultSettingsMap": {},
     "title": ""
    }
   },
   "outputs": [],
   "source": [
    "import pandas as pd\n",
    "import random\n",
    "from faker import Faker\n",
    "\n",
    "\n",
    "# Initialize Faker\n",
    "fake = Faker()\n",
    "\n",
    "# ----- Department DataFrame -----\n",
    "departments = [\n",
    "    {\"DepartmentID\": 1, \"DepartmentName\": \"Human Resources\"},\n",
    "    {\"DepartmentID\": 2, \"DepartmentName\": \"Finance\"},\n",
    "    {\"DepartmentID\": 3, \"DepartmentName\": \"Engineering\"},\n",
    "    {\"DepartmentID\": 4, \"DepartmentName\": \"Marketing\"},\n",
    "    {\"DepartmentID\": 5, \"DepartmentName\": \"Sales\"}\n",
    "]\n",
    "\n",
    "df_departments = pd.DataFrame(departments)\n",
    "\n",
    "# ----- Employee DataFrame -----\n",
    "employees = []\n",
    "\n",
    "for emp_id in range(1, 101):\n",
    "    employees.append({\n",
    "        \"EmployeeID\": emp_id,\n",
    "        \"FirstName\": fake.first_name(),\n",
    "        \"LastName\": fake.last_name(),\n",
    "        \"Email\": fake.email(),\n",
    "        \"HireDate\": fake.date_between(start_date='-10y', end_date='today'),\n",
    "        \"Salary\": round(random.uniform(40000, 120000), 2),\n",
    "        \"DepartmentID\": random.choice(df_departments[\"DepartmentID\"].tolist())\n",
    "    })\n",
    "\n",
    "df_employees = pd.DataFrame(employees)\n",
    "# Display the first few rows\n",
    "print(\"Departments:\")\n",
    "print(df_departments)\n",
    "print(\"\\nEmployees:\")\n",
    "print(df_employees.head())\n"
   ]
  },
  {
   "cell_type": "code",
   "execution_count": 0,
   "metadata": {
    "application/vnd.databricks.v1+cell": {
     "cellMetadata": {
      "byteLimit": 2048000,
      "rowLimit": 10000
     },
     "inputWidgets": {},
     "nuid": "b1635740-a227-446a-9444-828e9346a435",
     "showTitle": false,
     "tableResultSettingsMap": {},
     "title": ""
    }
   },
   "outputs": [],
   "source": [
    "df_employees = pd.DataFrame(employees)\n"
   ]
  },
  {
   "cell_type": "code",
   "execution_count": 0,
   "metadata": {
    "application/vnd.databricks.v1+cell": {
     "cellMetadata": {
      "byteLimit": 2048000,
      "rowLimit": 10000
     },
     "inputWidgets": {},
     "nuid": "fe0c0a9b-320b-4982-abb9-44c2be8250ca",
     "showTitle": false,
     "tableResultSettingsMap": {},
     "title": ""
    }
   },
   "outputs": [],
   "source": [
    "df_employees_pys = spark.createDataFrame(df_employees)\n"
   ]
  },
  {
   "cell_type": "code",
   "execution_count": 0,
   "metadata": {
    "application/vnd.databricks.v1+cell": {
     "cellMetadata": {
      "byteLimit": 2048000,
      "rowLimit": 10000
     },
     "inputWidgets": {},
     "nuid": "c621d03d-1c80-4243-a6f6-30dae1064261",
     "showTitle": false,
     "tableResultSettingsMap": {},
     "title": ""
    }
   },
   "outputs": [],
   "source": [
    "display(df_employees_pys)"
   ]
  },
  {
   "cell_type": "code",
   "execution_count": 0,
   "metadata": {
    "application/vnd.databricks.v1+cell": {
     "cellMetadata": {
      "byteLimit": 2048000,
      "rowLimit": 10000
     },
     "inputWidgets": {},
     "nuid": "ff5e5439-6ccf-43a8-9454-e1438a57a3db",
     "showTitle": false,
     "tableResultSettingsMap": {},
     "title": ""
    }
   },
   "outputs": [],
   "source": [
    "display(df_departments)"
   ]
  },
  {
   "cell_type": "code",
   "execution_count": 0,
   "metadata": {
    "application/vnd.databricks.v1+cell": {
     "cellMetadata": {
      "byteLimit": 2048000,
      "rowLimit": 10000
     },
     "inputWidgets": {},
     "nuid": "b6d3ab62-90d5-4757-a0fb-c0dd5260f092",
     "showTitle": false,
     "tableResultSettingsMap": {},
     "title": ""
    }
   },
   "outputs": [],
   "source": [
    "dfpysDepartment = spark.createDataFrame(df_departments)"
   ]
  },
  {
   "cell_type": "code",
   "execution_count": 0,
   "metadata": {
    "application/vnd.databricks.v1+cell": {
     "cellMetadata": {
      "byteLimit": 2048000,
      "rowLimit": 10000
     },
     "inputWidgets": {},
     "nuid": "2baa215c-d962-48df-a326-0e5b7b026a40",
     "showTitle": false,
     "tableResultSettingsMap": {},
     "title": ""
    }
   },
   "outputs": [],
   "source": [
    "dfInnerJoin = df_employees_pys.join(dfpysDepartment, on='DepartmentID', how='inner')\n",
    "display(dfInnerJoin)"
   ]
  },
  {
   "cell_type": "code",
   "execution_count": 0,
   "metadata": {
    "application/vnd.databricks.v1+cell": {
     "cellMetadata": {
      "byteLimit": 2048000,
      "rowLimit": 10000
     },
     "inputWidgets": {},
     "nuid": "90a61a59-fd5f-4d1c-bf2f-c6c33eebeb85",
     "showTitle": false,
     "tableResultSettingsMap": {},
     "title": ""
    }
   },
   "outputs": [],
   "source": [
    "leftDf = df_employees_pys.join(dfpysDepartment, df_employees_pys.DepartmentID == dfpysDepartment.DepartmentID , \"left\")"
   ]
  },
  {
   "cell_type": "code",
   "execution_count": 0,
   "metadata": {
    "application/vnd.databricks.v1+cell": {
     "cellMetadata": {
      "byteLimit": 2048000,
      "rowLimit": 10000
     },
     "inputWidgets": {},
     "nuid": "8ce8f45d-0ac0-460b-86f3-ca3443218b62",
     "showTitle": false,
     "tableResultSettingsMap": {},
     "title": ""
    }
   },
   "outputs": [],
   "source": [
    "display(leftDf)"
   ]
  },
  {
   "cell_type": "code",
   "execution_count": 0,
   "metadata": {
    "application/vnd.databricks.v1+cell": {
     "cellMetadata": {
      "byteLimit": 2048000,
      "rowLimit": 10000
     },
     "inputWidgets": {},
     "nuid": "3d39295d-ab7b-4cf0-aabf-11433fbac71d",
     "showTitle": false,
     "tableResultSettingsMap": {},
     "title": ""
    }
   },
   "outputs": [],
   "source": [
    "DFfINAL = df_employees_pys.join(dfpysDepartment, \"left_outer\",(df_employees_pys.DepartmentID == dfpysDepartment.DepartmentID) & ((df_employees_pys.EmployeeID == 10) |(df_employees_pys.EmployeeID == 20)|(df_employees_pys.EmployeeID == 65)|(df_employees_pys.EmployeeID == 35)) & (df_employees_pys.Salary.isNotNull()))\n",
    "display(DFfINAL)"
   ]
  }
 ],
 "metadata": {
  "application/vnd.databricks.v1+notebook": {
   "computePreferences": {
    "hardware": {
     "accelerator": null,
     "gpuPoolId": null,
     "memory": null
    }
   },
   "dashboards": [],
   "environmentMetadata": {
    "base_environment": "",
    "environment_version": "2"
   },
   "inputWidgetPreferences": null,
   "language": "python",
   "notebookMetadata": {
    "pythonIndentUnit": 4
   },
   "notebookName": "spark",
   "widgets": {}
  },
  "language_info": {
   "name": "python"
  }
 },
 "nbformat": 4,
 "nbformat_minor": 0
}
