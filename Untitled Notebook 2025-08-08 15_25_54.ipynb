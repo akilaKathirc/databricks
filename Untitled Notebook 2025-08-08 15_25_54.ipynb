{
 "cells": [
  {
   "cell_type": "code",
   "execution_count": 0,
   "metadata": {
    "application/vnd.databricks.v1+cell": {
     "cellMetadata": {
      "byteLimit": 2048000,
      "rowLimit": 10000
     },
     "inputWidgets": {},
     "nuid": "26b9f95d-d68b-4e62-955a-c80637132177",
     "showTitle": false,
     "tableResultSettingsMap": {},
     "title": ""
    }
   },
   "outputs": [],
   "source": [
    "!pip install faker\n"
   ]
  },
  {
   "cell_type": "code",
   "execution_count": 0,
   "metadata": {
    "application/vnd.databricks.v1+cell": {
     "cellMetadata": {
      "byteLimit": 2048000,
      "rowLimit": 10000
     },
     "inputWidgets": {},
     "nuid": "6d30e406-1767-4941-85e5-ace9c3ee19b6",
     "showTitle": false,
     "tableResultSettingsMap": {},
     "title": ""
    }
   },
   "outputs": [],
   "source": [
    "import pandas as pd\n",
    "\n",
    "import random\n",
    "import string\n",
    "\n",
    "from faker import Faker\n",
    "\n",
    "\n",
    "fake = Faker()\n",
    "rows = 11_000_000  # Adjust to hit ~5GB\n",
    "\n",
    "def random_emp_id(i):\n",
    "    return f'EMP{str(i).zfill(7)}'\n",
    "\n",
    "data = []\n",
    "for i in range(rows):\n",
    "    data.append([\n",
    "        random_emp_id(i),\n",
    "        fake.first_name(),\n",
    "        fake.last_name(),\n",
    "        fake.email(),\n",
    "        fake.phone_number(),\n",
    "        random.choice(['Engineering', 'HR', 'Sales', 'Marketing', 'Finance', 'Support']),\n",
    "        random.choice(['Manager', 'Engineer', 'Analyst', 'Specialist']),\n",
    "        fake.address().replace('\\n', ', '),\n",
    "        fake.date_of_birth(minimum_age=21, maximum_age=60),\n",
    "        fake.date_between(start_date='-10y', end_date='today'),\n",
    "        random.randint(30000, 200000),\n",
    "        random.choice(['Active', 'Inactive'])\n",
    "    ])\n",
    "\n",
    "columns = ['EmployeeID', 'FirstName', 'LastName', 'Email', 'Phone', 'Department',\n",
    "           'Designation', 'Address', 'DateOfBirth', 'JoiningDate', 'Salary', 'Status']\n",
    "\n",
    "df = pd.DataFrame(data, columns=columns)\n",
    "\n",
    "df.to_csv(\"employee_details_5GB.csv\", index=False)\n"
   ]
  },
  {
   "cell_type": "code",
   "execution_count": 0,
   "metadata": {
    "application/vnd.databricks.v1+cell": {
     "cellMetadata": {},
     "inputWidgets": {},
     "nuid": "cd7a7471-07d2-4fe9-b2ce-64b95b0aa06c",
     "showTitle": false,
     "tableResultSettingsMap": {},
     "title": ""
    }
   },
   "outputs": [],
   "source": []
  }
 ],
 "metadata": {
  "application/vnd.databricks.v1+notebook": {
   "computePreferences": null,
   "dashboards": [],
   "environmentMetadata": {
    "base_environment": "",
    "environment_version": "2"
   },
   "inputWidgetPreferences": null,
   "language": "python",
   "notebookMetadata": {
    "pythonIndentUnit": 4
   },
   "notebookName": "Untitled Notebook 2025-08-08 15_25_54",
   "widgets": {}
  },
  "language_info": {
   "name": "python"
  }
 },
 "nbformat": 4,
 "nbformat_minor": 0
}
