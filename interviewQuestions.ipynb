{
 "cells": [
  {
   "cell_type": "code",
   "execution_count": 0,
   "metadata": {
    "application/vnd.databricks.v1+cell": {
     "cellMetadata": {
      "byteLimit": 2048000,
      "rowLimit": 10000
     },
     "inputWidgets": {},
     "nuid": "d6605978-ad1e-4c1b-8b36-db2705c2423d",
     "showTitle": false,
     "tableResultSettingsMap": {},
     "title": ""
    }
   },
   "outputs": [],
   "source": [
    "data = [('Alice', 'Badminton, Tennis'), ('Bob', 'Tennis, Cricket'), ('Julie', 'Cricket, Carroms')]\n",
    "columns=[\"Name\", \"Hobbies\"]"
   ]
  },
  {
   "cell_type": "code",
   "execution_count": 0,
   "metadata": {
    "application/vnd.databricks.v1+cell": {
     "cellMetadata": {
      "byteLimit": 2048000,
      "rowLimit": 10000
     },
     "inputWidgets": {},
     "nuid": "a70c917f-6d6b-47ae-a671-76a4383ecc60",
     "showTitle": false,
     "tableResultSettingsMap": {},
     "title": ""
    }
   },
   "outputs": [],
   "source": [
    "df = spark.createDataFrame(data, columns)\n",
    "\n",
    "display(df)"
   ]
  },
  {
   "cell_type": "code",
   "execution_count": 0,
   "metadata": {
    "application/vnd.databricks.v1+cell": {
     "cellMetadata": {
      "byteLimit": 2048000,
      "rowLimit": 10000
     },
     "inputWidgets": {},
     "nuid": "3de70011-9fa8-41e1-bc74-6f20a7103507",
     "showTitle": false,
     "tableResultSettingsMap": {},
     "title": ""
    }
   },
   "outputs": [],
   "source": [
    "from pyspark.sql.functions import *\n",
    "\n",
    "df1 = df.withColumn(\"Hobby\", explode(split(col(\"Hobbies\"), \",\"))).select(col(\"Name\"), col(\"Hobby\"))\n",
    "\n",
    "\n",
    "display(df1)"
   ]
  },
  {
   "cell_type": "code",
   "execution_count": 0,
   "metadata": {
    "application/vnd.databricks.v1+cell": {
     "cellMetadata": {
      "byteLimit": 2048000,
      "rowLimit": 10000
     },
     "inputWidgets": {},
     "nuid": "1330fd1e-22ce-48b2-a273-ce60be870063",
     "showTitle": false,
     "tableResultSettingsMap": {},
     "title": ""
    }
   },
   "outputs": [],
   "source": [
    "data = [('Goa', '', 'AP'), ('', 'AP', None), (None, '', 'bglr')]\n",
    "columns=[\"city1\",\"city2\",\"city3\"]\n",
    "\n",
    "cityDf = spark.createDataFrame(data, columns)"
   ]
  },
  {
   "cell_type": "code",
   "execution_count": 0,
   "metadata": {
    "application/vnd.databricks.v1+cell": {
     "cellMetadata": {
      "byteLimit": 2048000,
      "rowLimit": 10000
     },
     "inputWidgets": {},
     "nuid": "9b3077a9-45d1-4b94-8cf9-6e4593a2d147",
     "showTitle": false,
     "tableResultSettingsMap": {},
     "title": ""
    }
   },
   "outputs": [],
   "source": [
    "display(cityDf)"
   ]
  },
  {
   "cell_type": "code",
   "execution_count": 0,
   "metadata": {
    "application/vnd.databricks.v1+cell": {
     "cellMetadata": {
      "byteLimit": 2048000,
      "rowLimit": 10000
     },
     "inputWidgets": {},
     "nuid": "2ab8adb9-ae9e-4cc8-87ba-eb141fd4cc3f",
     "showTitle": false,
     "tableResultSettingsMap": {},
     "title": ""
    }
   },
   "outputs": [],
   "source": [
    "cityDf1 = cityDf.withColumn(\"city\",coalesce(when(col(\"city1\") == \"\", None).otherwise(col(\"city1\")),when(col(\"city2\") == \"\", None).otherwise(col(\"city2\")),when(col(\"city3\") == \"\", None).otherwise(col(\"city3\"))))\n",
    "\n",
    "display(cityDf1)"
   ]
  },
  {
   "cell_type": "code",
   "execution_count": 0,
   "metadata": {
    "application/vnd.databricks.v1+cell": {
     "cellMetadata": {
      "byteLimit": 2048000,
      "rowLimit": 10000
     },
     "inputWidgets": {},
     "nuid": "a8974fad-59e6-4c54-8e9a-68282a98d184",
     "showTitle": false,
     "tableResultSettingsMap": {},
     "title": ""
    }
   },
   "outputs": [],
   "source": [
    "data1= [(1, \"Steve\"), (2, \"David\"), (3, \"John\"), (4, \"Shree\"), (5, \"Helen\")]\n",
    "data2= [(1, \"SQL\",90), (1, \"PySpark\", 100), (2, \"SQL\",70), (2, \"PySpark\", 60), (3, \"SQL\", 30), (3, \"PySpark\", 20), (4, \"SQL\", 50), (4,\n",
    "\"PySpark\", 50), (5, \"SQL\",45), (5, \"PySpark\", 45)]\n",
    "schema1=[\"Id\", \"Name\"]\n",
    "schema2=[\"Id\", \"Subject\", \"Mark\"]"
   ]
  },
  {
   "cell_type": "code",
   "execution_count": 0,
   "metadata": {
    "application/vnd.databricks.v1+cell": {
     "cellMetadata": {
      "byteLimit": 2048000,
      "rowLimit": 10000
     },
     "inputWidgets": {},
     "nuid": "c5a50c4f-34a4-4a1c-b306-b6a84a1db615",
     "showTitle": false,
     "tableResultSettingsMap": {},
     "title": ""
    }
   },
   "outputs": [],
   "source": [
    "dfsoft1 = spark.createDataFrame(data1, schema1)\n",
    "dfsoft2 = spark.createDataFrame(data2, schema2)"
   ]
  },
  {
   "cell_type": "code",
   "execution_count": 0,
   "metadata": {
    "application/vnd.databricks.v1+cell": {
     "cellMetadata": {
      "byteLimit": 2048000,
      "rowLimit": 10000
     },
     "inputWidgets": {},
     "nuid": "72f6ca49-ad01-4399-ae7f-ee92a0bb21e7",
     "showTitle": false,
     "tableResultSettingsMap": {},
     "title": ""
    }
   },
   "outputs": [],
   "source": [
    "display(dfsoft1)\n",
    "display(dfsoft2)"
   ]
  },
  {
   "cell_type": "code",
   "execution_count": 0,
   "metadata": {
    "application/vnd.databricks.v1+cell": {
     "cellMetadata": {
      "byteLimit": 2048000,
      "rowLimit": 10000
     },
     "inputWidgets": {},
     "nuid": "ab099878-1e6a-427d-95aa-170262958328",
     "showTitle": false,
     "tableResultSettingsMap": {},
     "title": ""
    }
   },
   "outputs": [],
   "source": [
    "dfMarks = dfsoft1.join(dfsoft2, \"Id\").groupBy(col(\"Id\"), col(\"Name\")).agg((sum(col(\"Mark\"))/count(col(\"Mark\"))).alias(\"percentage\")).select(col(\"Id\"), col(\"Name\"), col(\"percentage\"))"
   ]
  },
  {
   "cell_type": "code",
   "execution_count": 0,
   "metadata": {
    "application/vnd.databricks.v1+cell": {
     "cellMetadata": {
      "byteLimit": 2048000,
      "rowLimit": 10000
     },
     "inputWidgets": {},
     "nuid": "116c4da0-3791-46a4-adaf-1156ce901d0d",
     "showTitle": false,
     "tableResultSettingsMap": {},
     "title": ""
    }
   },
   "outputs": [],
   "source": [
    "display(dfMarks)"
   ]
  },
  {
   "cell_type": "code",
   "execution_count": 0,
   "metadata": {
    "application/vnd.databricks.v1+cell": {
     "cellMetadata": {
      "byteLimit": 2048000,
      "rowLimit": 10000
     },
     "inputWidgets": {},
     "nuid": "7ae8e688-8321-4303-8319-334652b7d686",
     "showTitle": false,
     "tableResultSettingsMap": {},
     "title": ""
    }
   },
   "outputs": [],
   "source": [
    "dfMarks = dfMarks.withColumn(\"Grade\", when(col(\"percentage\") >= 90, \"Distinction\")\n",
    "                   .when(col(\"percentage\") >= 80, \"First Class\")\n",
    "                   .when(col(\"percentage\") >= 70, \"Second Class\")\n",
    "                   .when(col(\"percentage\") >= 60, \"Third Class\").otherwise(\"False\"))\n",
    "                   \n",
    "display(dfMarks)"
   ]
  },
  {
   "cell_type": "code",
   "execution_count": 0,
   "metadata": {
    "application/vnd.databricks.v1+cell": {
     "cellMetadata": {
      "byteLimit": 2048000,
      "rowLimit": 10000
     },
     "inputWidgets": {},
     "nuid": "27bb767d-2cc8-476b-b8ca-db432a8f46f4",
     "showTitle": false,
     "tableResultSettingsMap": {},
     "title": ""
    }
   },
   "outputs": [],
   "source": [
    "data1=[(1, \"A\", 1000, \"IT\"), (2, \"B\", 1500,\"IT\"), (3, \"C\", 2500,\"IT\"), (4, \"D\",3000, \"HR\"), (5, \"E\", 2000, \"HR\"), (6, \"F\", 1000, \"HR\")\n",
    ", (7, \"G\", 4000, \"Sales\"), (8, \"H\", 4000, \"Sales\"), (9, \"I\", 1000, \"Sales\"), (10, \"J\", 2000, \"Sales\")]\n",
    "schema1=[\"EmpId\", \"EmpName\", \"Salary\", \"DeptName\"]\n",
    "\n",
    "dfDept = spark.createDataFrame(data1, schema1)\n",
    "display(dfDept)"
   ]
  },
  {
   "cell_type": "code",
   "execution_count": 0,
   "metadata": {
    "application/vnd.databricks.v1+cell": {
     "cellMetadata": {
      "byteLimit": 2048000,
      "rowLimit": 10000
     },
     "inputWidgets": {},
     "nuid": "0dca0808-8b3f-4344-b11a-b1da754b4ea2",
     "showTitle": false,
     "tableResultSettingsMap": {},
     "title": ""
    }
   },
   "outputs": [],
   "source": [
    "from pyspark.sql.window import Window\n",
    "\n",
    "\n",
    "window = Window.partitionBy(\"DeptName\").orderBy(col(\"Salary\").desc())\n",
    "dfDept = dfDept.withColumn(\"Rank\", dense_rank().over(window))\n",
    "display(dfDept)\n"
   ]
  },
  {
   "cell_type": "code",
   "execution_count": 0,
   "metadata": {
    "application/vnd.databricks.v1+cell": {
     "cellMetadata": {
      "byteLimit": 2048000,
      "rowLimit": 10000
     },
     "inputWidgets": {},
     "nuid": "f88c996a-4f3b-4dea-ba2e-db07c58e710b",
     "showTitle": false,
     "tableResultSettingsMap": {},
     "title": ""
    }
   },
   "outputs": [],
   "source": [
    "display(dfDept.where(col(\"Rank\") == 1))\n"
   ]
  },
  {
   "cell_type": "code",
   "execution_count": 0,
   "metadata": {
    "application/vnd.databricks.v1+cell": {
     "cellMetadata": {
      "byteLimit": 2048000,
      "rowLimit": 10000
     },
     "inputWidgets": {},
     "nuid": "762a9d01-6a51-40d7-be23-54f40eed59cb",
     "showTitle": false,
     "tableResultSettingsMap": {},
     "title": ""
    }
   },
   "outputs": [],
   "source": [
    "data1=[(100,\"Raj\", None, 1, \"01-04-23\", 50000),\n",
    "(200, \"Joanne\", 100, 1, \"01-04-23\",4000), (200, \"Joanne\", 100, 1, \"13-04-23\",4500), (200, \"Joanne\", 100, 1, \"14-04-23\",4020)]\n",
    "schema1=[\"EmpId\", \"EmpName\", \"Mgrid\", \"deptid\",\"salarydt\", \"salary\"]\n",
    "dfStudents = spark.createDataFrame(data1, schema1)\n",
    "\n",
    "\n",
    "data2=[(1, \"IT\"),\n",
    "(2,\"HR\")]\n",
    "schema2=[\"deptid\", \"deptname\"]\n",
    "dfDept = spark.createDataFrame(data2, schema2)\n",
    "display(dfStudents)\n",
    "display(dfDept)"
   ]
  },
  {
   "cell_type": "code",
   "execution_count": 0,
   "metadata": {
    "application/vnd.databricks.v1+cell": {
     "cellMetadata": {
      "byteLimit": 2048000,
      "rowLimit": 10000
     },
     "inputWidgets": {},
     "nuid": "995a86d8-d2c9-4abe-a730-46f74f6f6a6c",
     "showTitle": false,
     "tableResultSettingsMap": {},
     "title": ""
    }
   },
   "outputs": [],
   "source": [
    "from pyspark.sql.functions import *\n",
    "\n",
    "dfStudents = dfStudents.withColumn(\"newsalarydt\", to_date(col(\"salarydt\"), \"dd-MM-yy\"))\n",
    "# dfStudents = dfStudents.withColumn(\"salarydt1\", to_date(col(\"salarydt\"), \"dd-MMM-yy\"))\n",
    "# dfStudents = dfStudents.withColumn(\"salarydt2\", to_date(col(\"salarydt\"), \"dd-MMMM-yy\"))\n",
    "# dfStudents = dfStudents.withColumn(\"salarydt4\", date_format(col(\"salarydt\"), \"yyyy-MM-dd\"))\n",
    "# dfStudents = dfStudents.withColumn(\"salarydt5\", to_timestamp(col(\"salarydt\"), \"yyyy-MM-dd\"))\n",
    "dfStudents = dfStudents.drop(col(\"salarydt1\"), col(\"salarydt2\"), col(\"salarydt4\"), col(\"salarydt5\"))\n",
    "display(dfStudents)"
   ]
  },
  {
   "cell_type": "code",
   "execution_count": 0,
   "metadata": {
    "application/vnd.databricks.v1+cell": {
     "cellMetadata": {
      "byteLimit": 2048000,
      "rowLimit": 10000
     },
     "inputWidgets": {},
     "nuid": "95528eb7-7f32-45b2-b8ea-3ef1f01a9526",
     "showTitle": false,
     "tableResultSettingsMap": {},
     "title": ""
    }
   },
   "outputs": [],
   "source": [
    "dfStudentsDept = dfStudents.join(dfDept, \"deptid\")"
   ]
  },
  {
   "cell_type": "code",
   "execution_count": 0,
   "metadata": {
    "application/vnd.databricks.v1+cell": {
     "cellMetadata": {
      "byteLimit": 2048000,
      "rowLimit": 10000
     },
     "inputWidgets": {},
     "nuid": "02a3c9ac-b5f6-42d7-a74c-0b6334818b5d",
     "showTitle": false,
     "tableResultSettingsMap": {},
     "title": ""
    }
   },
   "outputs": [],
   "source": [
    "display(dfStudentsDept)"
   ]
  },
  {
   "cell_type": "code",
   "execution_count": 0,
   "metadata": {
    "application/vnd.databricks.v1+cell": {
     "cellMetadata": {
      "byteLimit": 2048000,
      "rowLimit": 10000
     },
     "inputWidgets": {},
     "nuid": "cc65e09a-f687-4f44-83c7-cd72db19ad02",
     "showTitle": false,
     "tableResultSettingsMap": {},
     "title": ""
    }
   },
   "outputs": [],
   "source": [
    "dfSelfJoin = dfStudentsDept.alias(\"a\").join(dfStudentsDept.alias(\"b\"), col(\"a.Mgrid\") == col(\"b.EmpId\"), \"left\").select(col(\"a.EmpName\"),col(\"a.deptname\"),col(\"a.salary\"),col(\"a.newsalarydt\"), col(\"b.EmpName\").alias(\"ManagerName\"))\n",
    "display(dfSelfJoin)"
   ]
  },
  {
   "cell_type": "code",
   "execution_count": 0,
   "metadata": {
    "application/vnd.databricks.v1+cell": {
     "cellMetadata": {
      "byteLimit": 2048000,
      "rowLimit": 10000
     },
     "inputWidgets": {},
     "nuid": "e8d098b1-bd09-4c11-aaa2-19e691f1d57b",
     "showTitle": false,
     "tableResultSettingsMap": {},
     "title": ""
    }
   },
   "outputs": [],
   "source": [
    "dfnewJoin = dfSelfJoin.groupBy(col(\"deptname\"), col(\"ManagerName\"), col(\"EmpName\")\n",
    "                   , year(col(\"newsalarydt\")).alias(\"Year\")\n",
    "                   , date_format(col(\"newsalarydt\"), \"MMM\").alias(\"Month\"\n",
    "                   )).sum(\"salary\").alias(\"TotalSalary\")\n",
    "\n",
    "\n",
    "display(dfnewJoin)"
   ]
  },
  {
   "cell_type": "code",
   "execution_count": 0,
   "metadata": {
    "application/vnd.databricks.v1+cell": {
     "cellMetadata": {
      "byteLimit": 2048000,
      "rowLimit": 10000
     },
     "inputWidgets": {},
     "nuid": "26009e74-1e66-470b-8f14-ad7d923c0eb6",
     "showTitle": false,
     "tableResultSettingsMap": {},
     "title": ""
    }
   },
   "outputs": [],
   "source": [
    "filePath = \"/FileStore/sales_200_rows.csv\""
   ]
  },
  {
   "cell_type": "code",
   "execution_count": 0,
   "metadata": {
    "application/vnd.databricks.v1+cell": {
     "cellMetadata": {
      "byteLimit": 2048000,
      "rowLimit": 10000
     },
     "inputWidgets": {},
     "nuid": "1f7b1f57-c9a8-44bb-9b38-02a1502722d3",
     "showTitle": false,
     "tableResultSettingsMap": {},
     "title": ""
    }
   },
   "outputs": [],
   "source": [
    "dfsales = spark.read.csv(filePath, header=True, inferSchema=True)\n",
    "display(dfsales)"
   ]
  },
  {
   "cell_type": "code",
   "execution_count": 0,
   "metadata": {
    "application/vnd.databricks.v1+cell": {
     "cellMetadata": {
      "byteLimit": 2048000,
      "rowLimit": 10000
     },
     "inputWidgets": {},
     "nuid": "e9076bff-2469-4504-b2f9-510c1bdf467a",
     "showTitle": false,
     "tableResultSettingsMap": {},
     "title": ""
    }
   },
   "outputs": [],
   "source": [
    "dfsalesp = dfsales.repartition(11)"
   ]
  },
  {
   "cell_type": "code",
   "execution_count": 0,
   "metadata": {
    "application/vnd.databricks.v1+cell": {
     "cellMetadata": {
      "byteLimit": 2048000,
      "rowLimit": 10000
     },
     "inputWidgets": {},
     "nuid": "c59484c0-83e9-430b-ba4f-90d73c8542bd",
     "showTitle": false,
     "tableResultSettingsMap": {},
     "title": ""
    }
   },
   "outputs": [],
   "source": [
    "dfsalesp = dfsalesp.select(spark_partition_id().alias(\"partitionID\")).groupBy(\"partitionID\").count()\n",
    "display(dfsalesp)"
   ]
  },
  {
   "cell_type": "code",
   "execution_count": 0,
   "metadata": {
    "application/vnd.databricks.v1+cell": {
     "cellMetadata": {
      "byteLimit": 2048000,
      "rowLimit": 10000
     },
     "inputWidgets": {},
     "nuid": "251e6899-beb9-415c-a07e-8d90ef82ed03",
     "showTitle": false,
     "tableResultSettingsMap": {},
     "title": ""
    }
   },
   "outputs": [],
   "source": [
    "filepath1 = \"/FileStore/nested_*.json\""
   ]
  },
  {
   "cell_type": "code",
   "execution_count": 0,
   "metadata": {
    "application/vnd.databricks.v1+cell": {
     "cellMetadata": {
      "byteLimit": 2048000,
      "rowLimit": 10000
     },
     "inputWidgets": {},
     "nuid": "fe963a64-7185-4fad-8153-bcd95c4d9dfb",
     "showTitle": false,
     "tableResultSettingsMap": {
      "0": {
       "dataGridStateBlob": "{\"version\":1,\"tableState\":{\"columnPinning\":{\"left\":[\"#row_number#\"],\"right\":[]},\"columnSizing\":{},\"columnVisibility\":{}},\"settings\":{\"columns\":{}},\"syncTimestamp\":1754901065865}",
       "filterBlob": null,
       "queryPlanFiltersBlob": null,
       "tableResultIndex": 0
      }
     },
     "title": ""
    }
   },
   "outputs": [],
   "source": [
    "import datetime\n",
    "\n",
    "from pyspark.sql.types import StructType, StructField, StringType, LongType, BooleanType\n",
    "\n",
    "schema = StructType([\n",
    "    StructField(\"address\", StructType([\n",
    "        StructField(\"city\", StringType(), True),\n",
    "        StructField(\"number\", LongType(), True),\n",
    "        StructField(\"street\", StringType(), True),\n",
    "        StructField(\"zip\", StringType(), True)\n",
    "    ]), True),\n",
    "    StructField(\"email\", StringType(), True),\n",
    "    StructField(\"error\", StringType(), True),\n",
    "    StructField(\"id\", LongType(), True),\n",
    "    StructField(\"name\", StringType(), True),\n",
    "    StructField(\"profile\", StructType([\n",
    "        StructField(\"active\", BooleanType(), True),\n",
    "        StructField(\"age\", LongType(), True),\n",
    "        StructField(\"join_date\", StringType(), True),\n",
    "        StructField(\"raw\", StringType(), True)\n",
    "    ]), True)\n",
    "])\n",
    "\n",
    "\n",
    "dfnestedJson = spark.read.schema(schema).option(\"multiline\", True).json(filepath1)\n",
    "\n",
    "display(dfnestedJson)"
   ]
  },
  {
   "cell_type": "code",
   "execution_count": 0,
   "metadata": {
    "application/vnd.databricks.v1+cell": {
     "cellMetadata": {
      "byteLimit": 2048000,
      "rowLimit": 10000
     },
     "inputWidgets": {},
     "nuid": "16144387-6516-416e-984a-153a96bde269",
     "showTitle": false,
     "tableResultSettingsMap": {},
     "title": ""
    }
   },
   "outputs": [],
   "source": [
    "data1=[(1, \"Ram\", \"Male\", 100), (2, \"Radhe\", \"Female\", 200), (3, \"John\", \"Male\", 250)]\n",
    "data2=[(101, \"John\", \"Male\", 100), (102, \"Joanne\", \"Female\", 250), (103, \"Smith\", \"Male\", 250)]\n",
    "data3=[(1001, \"Maxwell\", \"IT\", 200), (2, \"MSD\",\"HR\", 350), (3, \"Virat\", \"IT\", 300)]\n",
    "\n",
    "schema1=[\"Id\", \"Name\", \"IGender\", \"Salary\"]\n",
    "schema2=[\"Id\", \"Name\", \"Gender\", \"Salary\"]\n",
    "schema3=[\"Id\", \"Name\", \"DeptName\", \"Salary\"]\n",
    "\n",
    "df1 = spark.createDataFrame(data1, schema1)\n",
    "df2 = spark.createDataFrame(data2, schema2)\n",
    "df3 = spark.createDataFrame(data3, schema3)\n",
    "display(df1)\n",
    "display(df2)\n",
    "display(df3)\n"
   ]
  },
  {
   "cell_type": "code",
   "execution_count": 0,
   "metadata": {
    "application/vnd.databricks.v1+cell": {
     "cellMetadata": {
      "byteLimit": 2048000,
      "rowLimit": 10000
     },
     "inputWidgets": {},
     "nuid": "55e153cd-444f-4677-ab9a-7cc216079f6d",
     "showTitle": false,
     "tableResultSettingsMap": {},
     "title": ""
    }
   },
   "outputs": [],
   "source": [
    "if df1.schema ==df3.schema:\n",
    "    print(\"equal\")\n",
    "\n",
    "else:\n",
    "    print(\"not equal\")\n"
   ]
  },
  {
   "cell_type": "code",
   "execution_count": 0,
   "metadata": {
    "application/vnd.databricks.v1+cell": {
     "cellMetadata": {
      "byteLimit": 2048000,
      "rowLimit": 10000
     },
     "inputWidgets": {},
     "nuid": "5da0697b-dd15-4c72-924f-435c5d999186",
     "showTitle": false,
     "tableResultSettingsMap": {},
     "title": ""
    }
   },
   "outputs": [],
   "source": [
    "print(list[set(df1.schema) - set(df3.schema)])"
   ]
  },
  {
   "cell_type": "code",
   "execution_count": 0,
   "metadata": {
    "application/vnd.databricks.v1+cell": {
     "cellMetadata": {
      "byteLimit": 2048000,
      "rowLimit": 10000
     },
     "inputWidgets": {},
     "nuid": "f1da6d08-3615-4d49-9447-b288968df96b",
     "showTitle": false,
     "tableResultSettingsMap": {},
     "title": ""
    }
   },
   "outputs": [],
   "source": [
    "print(list[set(df3.schema) - set(df1.schema)])\n"
   ]
  },
  {
   "cell_type": "code",
   "execution_count": 0,
   "metadata": {
    "application/vnd.databricks.v1+cell": {
     "cellMetadata": {
      "byteLimit": 2048000,
      "rowLimit": 10000
     },
     "inputWidgets": {},
     "nuid": "9cfe0488-5f05-4821-a66e-67a7daf1a190",
     "showTitle": false,
     "tableResultSettingsMap": {},
     "title": ""
    }
   },
   "outputs": [],
   "source": [
    "allcolu = df1.columns +df3.columns\n",
    "print(allcolu)"
   ]
  },
  {
   "cell_type": "code",
   "execution_count": 0,
   "metadata": {
    "application/vnd.databricks.v1+cell": {
     "cellMetadata": {
      "byteLimit": 2048000,
      "rowLimit": 10000
     },
     "inputWidgets": {},
     "nuid": "c2f978b2-9a93-40a5-ac36-5ab46b4a8bd2",
     "showTitle": false,
     "tableResultSettingsMap": {
      "0": {
       "dataGridStateBlob": "{\"version\":1,\"tableState\":{\"columnPinning\":{\"left\":[\"#row_number#\"],\"right\":[]},\"columnSizing\":{},\"columnVisibility\":{}},\"settings\":{\"columns\":{}},\"syncTimestamp\":1754914526866}",
       "filterBlob": null,
       "queryPlanFiltersBlob": null,
       "tableResultIndex": 0
      }
     },
     "title": ""
    }
   },
   "outputs": [],
   "source": [
    "dff = spark.read.format(\"json\").option(\"multiline\", True).option(\"pathGlobFilter\", \"*.json\").option(\"recursiveFileLookup\", True).option(\"inferSchema\", True).load(\"/FileStore/\")\n",
    "\n",
    "display(dff)"
   ]
  },
  {
   "cell_type": "code",
   "execution_count": 0,
   "metadata": {
    "application/vnd.databricks.v1+cell": {
     "cellMetadata": {
      "byteLimit": 2048000,
      "rowLimit": 10000
     },
     "inputWidgets": {},
     "nuid": "f0da1eeb-4969-4e2b-8496-f3056aa79c77",
     "showTitle": false,
     "tableResultSettingsMap": {},
     "title": ""
    }
   },
   "outputs": [],
   "source": [
    "dff.select(col(\"email\"), col(\"name\")).write.option(\"header\", True).mode(\"overwrite\").csv(\"/FileStore/\",compression=\"gzip\", encoding=\"cp1252\")"
   ]
  },
  {
   "cell_type": "code",
   "execution_count": 0,
   "metadata": {
    "application/vnd.databricks.v1+cell": {
     "cellMetadata": {},
     "inputWidgets": {},
     "nuid": "fbe1a324-743c-463d-9944-d3ec6707965c",
     "showTitle": false,
     "tableResultSettingsMap": {},
     "title": ""
    }
   },
   "outputs": [],
   "source": []
  }
 ],
 "metadata": {
  "application/vnd.databricks.v1+notebook": {
   "computePreferences": null,
   "dashboards": [],
   "environmentMetadata": {
    "base_environment": "",
    "environment_version": "2"
   },
   "inputWidgetPreferences": null,
   "language": "python",
   "notebookMetadata": {
    "pythonIndentUnit": 4
   },
   "notebookName": "interviewQuestions",
   "widgets": {}
  },
  "language_info": {
   "name": "python"
  }
 },
 "nbformat": 4,
 "nbformat_minor": 0
}
